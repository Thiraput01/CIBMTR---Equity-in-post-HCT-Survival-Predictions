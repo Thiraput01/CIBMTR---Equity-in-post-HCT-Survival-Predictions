{
 "cells": [
  {
   "cell_type": "code",
   "execution_count": null,
   "metadata": {},
   "outputs": [],
   "source": [
    "# %%time\n",
    "from sklearn.metrics import *\n",
    "from sklearn.model_selection import KFold\n",
    "from catboost import CatBoostRegressor\n",
    "import numpy as np\n",
    "\n",
    "FOLDS = 10\n",
    "kf = KFold(n_splits=FOLDS, shuffle=True, random_state=42)\n",
    "\n",
    "oof_cat = np.zeros(len(train))\n",
    "pred_cat = np.zeros(len(test))\n",
    "\n",
    "for i, (tr_idx, va_idx) in enumerate(kf.split(train)):\n",
    "    \n",
    "    X_train = train.iloc[tr_idx][features]\n",
    "    y_train = train.iloc[tr_idx][target]\n",
    "    X_valid = train.iloc[va_idx][features]\n",
    "    y_valid = train.iloc[va_idx][target]\n",
    "    X_test = test[features]\n",
    "\n",
    "    model_cat = CatBoostRegressor(\n",
    "        iterations=5000,\n",
    "        learning_rate=0.02,\n",
    "        depth=3,\n",
    "        eval_metric='RMSE',\n",
    "        cat_features=cat,  # Pass categorical feature indices\n",
    "        early_stopping_rounds=20,\n",
    "        verbose=0,\n",
    "        task_type=\"GPU\"  # Use \"GPU\" for GPU training\n",
    "    )\n",
    "    \n",
    "    model_cat.fit(\n",
    "        X_train, y_train,\n",
    "        eval_set=(X_valid, y_valid),\n",
    "        use_best_model=True\n",
    "    )\n",
    "\n",
    "    valid_preds = model_cat.predict(X_valid)\n",
    "    oof_cat[va_idx] = valid_preds\n",
    "    pred_cat += model_cat.predict(X_test)\n",
    "    fold_rmse = mean_squared_error(y_valid, valid_preds, squared=False)\n",
    "    \n",
    "    print(\"#\" * 25)\n",
    "    print(f\"### Fold {i+1} \\n\")\n",
    "    print(f\"Fold {i+1} RMSE: {fold_rmse}\")\n",
    "    print(\"#\" * 25)\n",
    "\n",
    "pred_cat /= FOLDS\n"
   ]
  },
  {
   "cell_type": "code",
   "execution_count": null,
   "metadata": {},
   "outputs": [],
   "source": [
    "feature_importance = model_cat.get_feature_importance()\n",
    "feature_names = train[features].columns\n",
    "\n",
    "indices = np.argsort(feature_importance)[::-1]\n",
    "\n",
    "plt.figure(figsize=(10, 15))\n",
    "plt.barh(range(len(feature_importance)), feature_importance[indices], align='center', color='skyblue')\n",
    "plt.yticks(range(len(feature_importance)), [feature_names[i] for i in indices], fontsize=10) \n",
    "plt.xlabel('Feature Importance', fontsize=12)\n",
    "plt.title('Feature Importance from CatBoost Model', fontsize=12)\n",
    "plt.gca().invert_yaxis()\n",
    "\n",
    "# Adjust layout for padding\n",
    "plt.tight_layout(pad=1.0)\n",
    "\n",
    "plt.show()\n"
   ]
  }
 ],
 "metadata": {
  "kernelspec": {
   "display_name": "Python 3",
   "language": "python",
   "name": "python3"
  },
  "language_info": {
   "name": "python",
   "version": "3.11.4"
  }
 },
 "nbformat": 4,
 "nbformat_minor": 2
}
