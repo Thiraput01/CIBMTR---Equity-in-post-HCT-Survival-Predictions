{
 "cells": [
  {
   "cell_type": "code",
   "execution_count": null,
   "metadata": {},
   "outputs": [],
   "source": [
    "%%time\n",
    "from sklearn.model_selection import StratifiedKFold, train_test_split, KFold\n",
    "from sklearn.metrics import *\n",
    "import lightgbm as lgb\n",
    "from lightgbm import LGBMRegressor\n",
    "\n",
    "FOLDS = 10\n",
    "kf = KFold(n_splits=FOLDS, shuffle=True, random_state=42)\n",
    "\n",
    "oof_lgb = np.zeros(len(train))\n",
    "pred_lgb = np.zeros(len(test))\n",
    "\n",
    "for i, (tr_idx, va_idx) in enumerate(kf.split(train)):\n",
    "    \n",
    "    X_train = train.loc[tr_idx, features].copy()\n",
    "    y_train = train.loc[tr_idx, target]\n",
    "    X_valid = train.loc[va_idx, features].copy()\n",
    "    y_valid = train.loc[va_idx, target]\n",
    "    X_test = test[features].copy()\n",
    "\n",
    "    model_lgb = LGBMRegressor(\n",
    "        device=\"gpu\",\n",
    "        max_depth=3,\n",
    "        colsample_bytree=0.4,  \n",
    "        cat_features=cat,\n",
    "        #subsample=0.9, \n",
    "        n_estimators=5000, \n",
    "        learning_rate=0.02, \n",
    "        objective=\"regression\", \n",
    "        verbose=-1, \n",
    "        early_stopping_rounds=20,\n",
    "    )\n",
    "    \n",
    "    model_lgb.fit(\n",
    "        X_train, y_train,\n",
    "        eval_set=[(X_valid, y_valid)]\n",
    "    )\n",
    "\n",
    "    valid_preds = model_lgb.predict(X_valid)\n",
    "    oof_lgb[va_idx] = valid_preds\n",
    "    pred_lgb += model_lgb.predict(X_test)\n",
    "    fold_rmse = mean_squared_error(y_valid, valid_preds, squared=False)\n",
    "    \n",
    "    print(\"#\"*25)\n",
    "    print(f\"### Fold {i+1} \\n\")\n",
    "    print(f\"Fold {i+1} RMSE: {fold_rmse}\")\n",
    "    print(\"#\"*25)\n",
    "\n",
    "pred_lgb /= FOLDS"
   ]
  }
 ],
 "metadata": {
  "kernelspec": {
   "display_name": "Python 3",
   "language": "python",
   "name": "python3"
  },
  "language_info": {
   "name": "python",
   "version": "3.11.4"
  }
 },
 "nbformat": 4,
 "nbformat_minor": 2
}
